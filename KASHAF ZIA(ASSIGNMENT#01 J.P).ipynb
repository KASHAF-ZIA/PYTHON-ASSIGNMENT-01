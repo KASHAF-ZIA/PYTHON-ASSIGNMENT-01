{
 "cells": [
  {
   "cell_type": "code",
   "execution_count": 14,
   "metadata": {},
   "outputs": [
    {
     "name": "stdout",
     "output_type": "stream",
     "text": [
      "Twinkle,twinkle,little star,\n",
      "     How I wonder what you are!\n",
      "             Up above the world so high\n",
      "             Like a diamond in the sky.\n",
      "Twinkle,twinkle,little star,\n",
      "      How I wonder what you are\n"
     ]
    }
   ],
   "source": [
    "print(\"Twinkle,twinkle,little star,\")\n",
    "print(\"     How I wonder what you are!\")\n",
    "print(\"             Up above the world so high\")\n",
    "print(\"             Like a diamond in the sky.\")\n",
    "print(\"Twinkle,twinkle,little star,\")\n",
    "print(\"      How I wonder what you are\")\n"
   ]
  },
  {
   "cell_type": "code",
   "execution_count": null,
   "metadata": {},
   "outputs": [],
   "source": []
  },
  {
   "cell_type": "code",
   "execution_count": 7,
   "metadata": {},
   "outputs": [
    {
     "name": "stdout",
     "output_type": "stream",
     "text": [
      "enter no:2\n",
      "enter sec no:2\n",
      "4\n"
     ]
    }
   ],
   "source": [
    "f=int(input(\"enter no:\"))\n",
    "g=int(input(\"enter sec no:\"))\n",
    "c=f+g\n",
    "print(c)"
   ]
  },
  {
   "cell_type": "code",
   "execution_count": 8,
   "metadata": {},
   "outputs": [
    {
     "name": "stdout",
     "output_type": "stream",
     "text": [
      "First name: kashaf\n",
      "Last name: zia\n",
      "zia kashaf\n"
     ]
    }
   ],
   "source": [
    "x=(input(\"First name: \"))\n",
    "y=(input(\"Last name: \"))\n",
    "z=y+\" \"+x\n",
    "print(z)"
   ]
  },
  {
   "cell_type": "code",
   "execution_count": 9,
   "metadata": {},
   "outputs": [
    {
     "name": "stdout",
     "output_type": "stream",
     "text": [
      "enter radius:2\n",
      "12.568\n"
     ]
    }
   ],
   "source": [
    "b=int(input(\"enter radius:\"))\n",
    "c=3.142*b*b\n",
    "print(c)"
   ]
  },
  {
   "cell_type": "code",
   "execution_count": 10,
   "metadata": {},
   "outputs": [
    {
     "name": "stdout",
     "output_type": "stream",
     "text": [
      "3.8.5 (default, Sep  3 2020, 21:29:08) [MSC v.1916 64 bit (AMD64)]\n"
     ]
    }
   ],
   "source": [
    "import sys\n",
    "print(sys.version)"
   ]
  },
  {
   "cell_type": "code",
   "execution_count": 13,
   "metadata": {},
   "outputs": [
    {
     "name": "stdout",
     "output_type": "stream",
     "text": [
      "Curent date time  now 2022-01-01 20:13:25.013619\n"
     ]
    }
   ],
   "source": [
    "from datetime import datetime\n",
    "\n",
    "current_date = datetime.now()\n",
    " \n",
    "print(\"Curent date time  now\", current_date)"
   ]
  },
  {
   "cell_type": "code",
   "execution_count": null,
   "metadata": {},
   "outputs": [],
   "source": []
  }
 ],
 "metadata": {
  "kernelspec": {
   "display_name": "Python 3",
   "language": "python",
   "name": "python3"
  },
  "language_info": {
   "codemirror_mode": {
    "name": "ipython",
    "version": 3
   },
   "file_extension": ".py",
   "mimetype": "text/x-python",
   "name": "python",
   "nbconvert_exporter": "python",
   "pygments_lexer": "ipython3",
   "version": "3.8.5"
  }
 },
 "nbformat": 4,
 "nbformat_minor": 4
}
